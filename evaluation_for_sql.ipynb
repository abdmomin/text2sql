{
  "nbformat": 4,
  "nbformat_minor": 0,
  "metadata": {
    "colab": {
      "provenance": [],
      "authorship_tag": "ABX9TyO94C4aKSx82xO164PZF496",
      "include_colab_link": true
    },
    "kernelspec": {
      "name": "python3",
      "display_name": "Python 3"
    },
    "language_info": {
      "name": "python"
    }
  },
  "cells": [
    {
      "cell_type": "markdown",
      "metadata": {
        "id": "view-in-github",
        "colab_type": "text"
      },
      "source": [
        "<a href=\"https://colab.research.google.com/github/abdmomin/text2sql/blob/main/evaluation_for_sql.ipynb\" target=\"_parent\"><img src=\"https://colab.research.google.com/assets/colab-badge.svg\" alt=\"Open In Colab\"/></a>"
      ]
    },
    {
      "cell_type": "code",
      "source": [
        "%pip install -Uq sqlglot"
      ],
      "metadata": {
        "colab": {
          "base_uri": "https://localhost:8080/"
        },
        "id": "Tm2EncUZWQy2",
        "outputId": "4ef6b447-e3c6-4c42-880c-ba0debd33127"
      },
      "execution_count": null,
      "outputs": [
        {
          "output_type": "stream",
          "name": "stdout",
          "text": [
            "\u001b[2K   \u001b[90m━━━━━━━━━━━━━━━━━━━━━━━━━━━━━━━━━━━━━━━━\u001b[0m \u001b[32m461.8/461.8 kB\u001b[0m \u001b[31m6.0 MB/s\u001b[0m eta \u001b[36m0:00:00\u001b[0m\n",
            "\u001b[?25h\u001b[31mERROR: pip's dependency resolver does not currently take into account all the packages that are installed. This behaviour is the source of the following dependency conflicts.\n",
            "ibis-framework 9.5.0 requires sqlglot<25.21,>=23.4, but you have sqlglot 26.18.1 which is incompatible.\u001b[0m\u001b[31m\n",
            "\u001b[0m"
          ]
        }
      ]
    },
    {
      "cell_type": "code",
      "execution_count": null,
      "metadata": {
        "id": "zpBh5zXQU4S4"
      },
      "outputs": [],
      "source": [
        "import sqlglot\n",
        "from sqlglot.expressions import Select\n",
        "\n",
        "\n",
        "def extract_sql_components(sql: str) -> dict:\n",
        "    try:\n",
        "        parsed = sqlglot.parse_one(sql)\n",
        "    except Exception as e:\n",
        "        return {\n",
        "            \"columns\": set(),\n",
        "            \"tables\": set(),\n",
        "            \"keywords\": set(),\n",
        "            \"error\": str(e),\n",
        "        }\n",
        "\n",
        "    columns: set[str] = set()\n",
        "    tables: set[str] = set()\n",
        "    keywords: set[str] = set()\n",
        "\n",
        "    for column in parsed.find_all(sqlglot.expressions.Column):\n",
        "        if column.name:\n",
        "            columns.add(column.name.lower())\n",
        "\n",
        "    for table in parsed.find_all(sqlglot.expressions.Table):\n",
        "        if table.name:\n",
        "            tables.add(table.name.lower())\n",
        "\n",
        "    if isinstance(parsed, Select):\n",
        "        if parsed.args.get(\"where\"):\n",
        "            keywords.add(\"where\")\n",
        "        if parsed.args.get(\"group\"):\n",
        "            keywords.add(\"group\")\n",
        "        if parsed.args.get(\"order\"):\n",
        "            keywords.add(\"order\")\n",
        "        if parsed.args.get(\"having\"):\n",
        "            keywords.add(\"having\")\n",
        "        if parsed.args.get(\"limit\"):\n",
        "            keywords.add(\"limit\")\n",
        "        if parsed.args.get(\"joins\"):\n",
        "            keywords.add(\"join\")\n",
        "\n",
        "    return {\n",
        "        \"columns\": columns,\n",
        "        \"tables\": tables,\n",
        "        \"keywords\": keywords,\n",
        "    }\n",
        "\n",
        "\n",
        "def jaccard_similarity(set1: set[str], set2: set[str]) -> float:\n",
        "    return len(set1 & set2) / len(set1 | set2)\n",
        "\n",
        "\n",
        "def compute_sql_partial_match(predicted_sql: str, gold_sql: str) -> dict:\n",
        "    pred = extract_sql_components(predicted_sql)\n",
        "    gold = extract_sql_components(gold_sql)\n",
        "\n",
        "    col_score = jaccard_similarity(pred[\"columns\"], gold[\"columns\"])\n",
        "    table_score = jaccard_similarity(pred[\"tables\"], gold[\"tables\"])\n",
        "    keyword_score = jaccard_similarity(pred[\"keywords\"], gold[\"keywords\"])\n",
        "\n",
        "    total_score = 0.5 * col_score + 0.3 * table_score + 0.2 * keyword_score\n",
        "\n",
        "    return {\n",
        "        \"column_score\": col_score,\n",
        "        \"table_score\": table_score,\n",
        "        \"keyword_score\": keyword_score,\n",
        "        \"total_score\": total_score\n",
        "    }"
      ]
    },
    {
      "cell_type": "code",
      "source": [
        "import re\n",
        "\n",
        "def normalize_sql(sql: str) -> list[str]:\n",
        "  sql = sql.lower()\n",
        "  # Remove symbols for cleaner splitting\n",
        "  sql = re.sub(r'[(),;<>=]', '', sql)\n",
        "  return sql.split()\n",
        "\n",
        "\n",
        "def compute_f1(prediction: str|dict[str, float], truth: str|dict[str, float]) -> int | float:\n",
        "  if isinstance(prediction, str) and isinstance(truth, str):\n",
        "    pred_tokens = normalize_sql(prediction)\n",
        "    truth_tokens = normalize_sql(truth)\n",
        "\n",
        "  pred_tokens = prediction\n",
        "  truth_tokens = truth\n",
        "\n",
        "  # if either the prediction or the truth has no-answer then f1 = 1 if they agree, 0 otherwise\n",
        "  if len(pred_tokens) == 0 or len(truth_tokens) == 0:\n",
        "    return int(pred_tokens == truth_tokens)\n",
        "\n",
        "  common_tokens = set(pred_tokens) & set(truth_tokens)\n",
        "\n",
        "  # if there are no common tokens then f1 = 0\n",
        "  if len(common_tokens) == 0:\n",
        "    return 0\n",
        "\n",
        "  prec = len(common_tokens) / len(pred_tokens)\n",
        "  rec = len(common_tokens) / len(truth_tokens)\n",
        "\n",
        "  return 2 * (prec * rec) / (prec + rec)"
      ],
      "metadata": {
        "id": "mnThR-DWXtUx"
      },
      "execution_count": null,
      "outputs": []
    },
    {
      "cell_type": "code",
      "source": [
        "def f1_score(pred_sql, gold_sql):\n",
        "  pred = extract_sql_components(pred_sql)\n",
        "  gold = extract_sql_components(gold_sql)\n",
        "\n",
        "  column_f1 = compute_f1(pred[\"columns\"], gold[\"columns\"])\n",
        "  table_f1 = compute_f1(pred[\"tables\"], gold[\"tables\"])\n",
        "  keyword_f1 = compute_f1(pred[\"keywords\"], gold[\"keywords\"])\n",
        "\n",
        "  # weighted_f1 = 0.5 * column_f1 + 0.3 * table_f1 + 0.2 * keyword_f1 # weighted f1 score\n",
        "  macro_f1 = (column_f1 + table_f1 + keyword_f1) / 3 # macro f1 score\n",
        "  return {\n",
        "      \"column_f1\": column_f1,\n",
        "      \"table_f1\": table_f1,\n",
        "      \"keyword_f1\": keyword_f1,\n",
        "      \"macro_f1\": macro_f1,\n",
        "      # \"weighted_f1\": weighted_f1\n",
        "  }"
      ],
      "metadata": {
        "id": "Ldr23dAwimar"
      },
      "execution_count": null,
      "outputs": []
    },
    {
      "cell_type": "code",
      "source": [
        "# test\n",
        "predicted_sql = \"SELECT name, price FROM products WHERE price > 100\"\n",
        "gold_sql = \"SELECT price, name FROM products WHERE price >= 100\"\n",
        "\n",
        "compute_sql_partial_match(predicted_sql, gold_sql)"
      ],
      "metadata": {
        "colab": {
          "base_uri": "https://localhost:8080/"
        },
        "id": "ly0GlY6lWg9U",
        "outputId": "d85288c0-8c9c-49f1-ba7c-024114533b20"
      },
      "execution_count": null,
      "outputs": [
        {
          "output_type": "execute_result",
          "data": {
            "text/plain": [
              "{'column_score': 1.0,\n",
              " 'table_score': 1.0,\n",
              " 'keyword_score': 1.0,\n",
              " 'total_score': 1.0}"
            ]
          },
          "metadata": {},
          "execution_count": 100
        }
      ]
    },
    {
      "cell_type": "code",
      "source": [
        "extract_sql_components(predicted_sql), extract_sql_components(gold_sql)"
      ],
      "metadata": {
        "colab": {
          "base_uri": "https://localhost:8080/"
        },
        "id": "uW5zKtrSbPA6",
        "outputId": "c326a81e-2b20-4af5-ae96-8369e9fd4c77"
      },
      "execution_count": null,
      "outputs": [
        {
          "output_type": "execute_result",
          "data": {
            "text/plain": [
              "({'columns': {'name', 'price'}, 'tables': {'products'}, 'keywords': {'where'}},\n",
              " {'columns': {'name', 'price'}, 'tables': {'products'}, 'keywords': {'where'}})"
            ]
          },
          "metadata": {},
          "execution_count": 101
        }
      ]
    },
    {
      "cell_type": "code",
      "source": [
        "compute_f1(predicted_sql, gold_sql)"
      ],
      "metadata": {
        "colab": {
          "base_uri": "https://localhost:8080/"
        },
        "id": "sY09gra0Y_Bq",
        "outputId": "da7d7d99-6489-4464-d94d-3f159ff145f3"
      },
      "execution_count": null,
      "outputs": [
        {
          "output_type": "execute_result",
          "data": {
            "text/plain": [
              "0.5742574257425743"
            ]
          },
          "metadata": {},
          "execution_count": 102
        }
      ]
    },
    {
      "cell_type": "code",
      "source": [
        "f1_score(predicted_sql, gold_sql)"
      ],
      "metadata": {
        "colab": {
          "base_uri": "https://localhost:8080/"
        },
        "id": "mkHMNus-kDaG",
        "outputId": "fe3d9d65-223b-4c40-c1b6-6bd561576bde"
      },
      "execution_count": null,
      "outputs": [
        {
          "output_type": "execute_result",
          "data": {
            "text/plain": [
              "{'column_f1': 1.0, 'table_f1': 1.0, 'keyword_f1': 1.0, 'macro_f1': 1.0}"
            ]
          },
          "metadata": {},
          "execution_count": 103
        }
      ]
    },
    {
      "cell_type": "code",
      "source": [
        "# test\n",
        "pred = \"SELECT name, email FROM customers WHERE name='John'\"\n",
        "gold = \"SELECT price, name FROM products WHERE price >= 100\"\n",
        "\n",
        "compute_f1(pred, gold)"
      ],
      "metadata": {
        "colab": {
          "base_uri": "https://localhost:8080/"
        },
        "id": "j3l3e17YWoLi",
        "outputId": "8bf80e8f-a952-431c-cdd3-fd29aea317e7"
      },
      "execution_count": null,
      "outputs": [
        {
          "output_type": "execute_result",
          "data": {
            "text/plain": [
              "0.49019607843137253"
            ]
          },
          "metadata": {},
          "execution_count": 104
        }
      ]
    },
    {
      "cell_type": "code",
      "source": [
        "compute_sql_partial_match(pred, gold)"
      ],
      "metadata": {
        "colab": {
          "base_uri": "https://localhost:8080/"
        },
        "id": "yw4L7lgdds68",
        "outputId": "3d38037d-8f89-4ed0-e4c8-ffe2ef5856c3"
      },
      "execution_count": null,
      "outputs": [
        {
          "output_type": "execute_result",
          "data": {
            "text/plain": [
              "{'column_score': 0.3333333333333333,\n",
              " 'table_score': 0.0,\n",
              " 'keyword_score': 1.0,\n",
              " 'total_score': 0.3666666666666667}"
            ]
          },
          "metadata": {},
          "execution_count": 105
        }
      ]
    },
    {
      "cell_type": "code",
      "source": [
        "f1_score(pred, gold)"
      ],
      "metadata": {
        "colab": {
          "base_uri": "https://localhost:8080/"
        },
        "id": "eS9IlvPxiEjh",
        "outputId": "72c488ed-2cb6-44e2-934b-20008b8e610a"
      },
      "execution_count": null,
      "outputs": [
        {
          "output_type": "execute_result",
          "data": {
            "text/plain": [
              "{'column_f1': 0.5, 'table_f1': 0, 'keyword_f1': 1.0, 'macro_f1': 0.5}"
            ]
          },
          "metadata": {},
          "execution_count": 106
        }
      ]
    },
    {
      "cell_type": "code",
      "source": [
        "extract_sql_components(pred), extract_sql_components(gold)"
      ],
      "metadata": {
        "colab": {
          "base_uri": "https://localhost:8080/"
        },
        "id": "JaN7VtIzEyIn",
        "outputId": "3653ad6a-d397-439b-935f-5383cc947844"
      },
      "execution_count": null,
      "outputs": [
        {
          "output_type": "execute_result",
          "data": {
            "text/plain": [
              "({'columns': {'email', 'name'},\n",
              "  'tables': {'customers'},\n",
              "  'keywords': {'where'}},\n",
              " {'columns': {'name', 'price'}, 'tables': {'products'}, 'keywords': {'where'}})"
            ]
          },
          "metadata": {},
          "execution_count": 107
        }
      ]
    },
    {
      "cell_type": "code",
      "source": [],
      "metadata": {
        "id": "SnOiTJEmEyF7"
      },
      "execution_count": null,
      "outputs": []
    },
    {
      "cell_type": "code",
      "source": [],
      "metadata": {
        "id": "FIDPSpW5EyCI"
      },
      "execution_count": null,
      "outputs": []
    }
  ]
}